{
  "nbformat": 4,
  "nbformat_minor": 0,
  "metadata": {
    "colab": {
      "provenance": []
    },
    "kernelspec": {
      "name": "python3",
      "display_name": "Python 3"
    },
    "language_info": {
      "name": "python"
    }
  },
  "cells": [
    {
      "cell_type": "code",
      "execution_count": 1,
      "metadata": {
        "colab": {
          "base_uri": "https://localhost:8080/"
        },
        "id": "tG5ktEOd2Nct",
        "outputId": "8357f5f4-189e-493d-9d03-ad8130d1dfb7"
      },
      "outputs": [
        {
          "output_type": "stream",
          "name": "stdout",
          "text": [
            "Looking in indexes: https://pypi.org/simple, https://us-python.pkg.dev/colab-wheels/public/simple/\n",
            "Requirement already satisfied: nltk in /usr/local/lib/python3.8/dist-packages (3.7)\n",
            "Requirement already satisfied: joblib in /usr/local/lib/python3.8/dist-packages (from nltk) (1.2.0)\n",
            "Requirement already satisfied: click in /usr/local/lib/python3.8/dist-packages (from nltk) (7.1.2)\n",
            "Requirement already satisfied: regex>=2021.8.3 in /usr/local/lib/python3.8/dist-packages (from nltk) (2022.6.2)\n",
            "Requirement already satisfied: tqdm in /usr/local/lib/python3.8/dist-packages (from nltk) (4.64.1)\n"
          ]
        }
      ],
      "source": [
        "pip install nltk"
      ]
    },
    {
      "cell_type": "code",
      "source": [
        "pip install newspaper3K"
      ],
      "metadata": {
        "colab": {
          "base_uri": "https://localhost:8080/"
        },
        "id": "70J-Zf0v2Yp-",
        "outputId": "e598b88f-17c1-492f-f44f-76645c7ccc2b"
      },
      "execution_count": 5,
      "outputs": [
        {
          "output_type": "stream",
          "name": "stdout",
          "text": [
            "Looking in indexes: https://pypi.org/simple, https://us-python.pkg.dev/colab-wheels/public/simple/\n",
            "Collecting newspaper3K\n",
            "  Downloading newspaper3k-0.2.8-py3-none-any.whl (211 kB)\n",
            "\u001b[K     |████████████████████████████████| 211 kB 4.9 MB/s \n",
            "\u001b[?25hRequirement already satisfied: requests>=2.10.0 in /usr/local/lib/python3.8/dist-packages (from newspaper3K) (2.23.0)\n",
            "Requirement already satisfied: lxml>=3.6.0 in /usr/local/lib/python3.8/dist-packages (from newspaper3K) (4.9.2)\n",
            "Collecting jieba3k>=0.35.1\n",
            "  Downloading jieba3k-0.35.1.zip (7.4 MB)\n",
            "\u001b[K     |████████████████████████████████| 7.4 MB 63.3 MB/s \n",
            "\u001b[?25hCollecting cssselect>=0.9.2\n",
            "  Downloading cssselect-1.2.0-py2.py3-none-any.whl (18 kB)\n",
            "Requirement already satisfied: PyYAML>=3.11 in /usr/local/lib/python3.8/dist-packages (from newspaper3K) (6.0)\n",
            "Collecting feedfinder2>=0.0.4\n",
            "  Downloading feedfinder2-0.0.4.tar.gz (3.3 kB)\n",
            "Collecting tldextract>=2.0.1\n",
            "  Downloading tldextract-3.4.0-py3-none-any.whl (93 kB)\n",
            "\u001b[K     |████████████████████████████████| 93 kB 2.3 MB/s \n",
            "\u001b[?25hRequirement already satisfied: beautifulsoup4>=4.4.1 in /usr/local/lib/python3.8/dist-packages (from newspaper3K) (4.6.3)\n",
            "Requirement already satisfied: Pillow>=3.3.0 in /usr/local/lib/python3.8/dist-packages (from newspaper3K) (7.1.2)\n",
            "Requirement already satisfied: nltk>=3.2.1 in /usr/local/lib/python3.8/dist-packages (from newspaper3K) (3.7)\n",
            "Collecting tinysegmenter==0.3\n",
            "  Downloading tinysegmenter-0.3.tar.gz (16 kB)\n",
            "Requirement already satisfied: python-dateutil>=2.5.3 in /usr/local/lib/python3.8/dist-packages (from newspaper3K) (2.8.2)\n",
            "Collecting feedparser>=5.2.1\n",
            "  Downloading feedparser-6.0.10-py3-none-any.whl (81 kB)\n",
            "\u001b[K     |████████████████████████████████| 81 kB 10.2 MB/s \n",
            "\u001b[?25hRequirement already satisfied: six in /usr/local/lib/python3.8/dist-packages (from feedfinder2>=0.0.4->newspaper3K) (1.15.0)\n",
            "Collecting sgmllib3k\n",
            "  Downloading sgmllib3k-1.0.0.tar.gz (5.8 kB)\n",
            "Requirement already satisfied: tqdm in /usr/local/lib/python3.8/dist-packages (from nltk>=3.2.1->newspaper3K) (4.64.1)\n",
            "Requirement already satisfied: click in /usr/local/lib/python3.8/dist-packages (from nltk>=3.2.1->newspaper3K) (7.1.2)\n",
            "Requirement already satisfied: joblib in /usr/local/lib/python3.8/dist-packages (from nltk>=3.2.1->newspaper3K) (1.2.0)\n",
            "Requirement already satisfied: regex>=2021.8.3 in /usr/local/lib/python3.8/dist-packages (from nltk>=3.2.1->newspaper3K) (2022.6.2)\n",
            "Requirement already satisfied: certifi>=2017.4.17 in /usr/local/lib/python3.8/dist-packages (from requests>=2.10.0->newspaper3K) (2022.12.7)\n",
            "Requirement already satisfied: chardet<4,>=3.0.2 in /usr/local/lib/python3.8/dist-packages (from requests>=2.10.0->newspaper3K) (3.0.4)\n",
            "Requirement already satisfied: urllib3!=1.25.0,!=1.25.1,<1.26,>=1.21.1 in /usr/local/lib/python3.8/dist-packages (from requests>=2.10.0->newspaper3K) (1.24.3)\n",
            "Requirement already satisfied: idna<3,>=2.5 in /usr/local/lib/python3.8/dist-packages (from requests>=2.10.0->newspaper3K) (2.10)\n",
            "Collecting requests-file>=1.4\n",
            "  Downloading requests_file-1.5.1-py2.py3-none-any.whl (3.7 kB)\n",
            "Requirement already satisfied: filelock>=3.0.8 in /usr/local/lib/python3.8/dist-packages (from tldextract>=2.0.1->newspaper3K) (3.8.2)\n",
            "Building wheels for collected packages: tinysegmenter, feedfinder2, jieba3k, sgmllib3k\n",
            "  Building wheel for tinysegmenter (setup.py) ... \u001b[?25l\u001b[?25hdone\n",
            "  Created wheel for tinysegmenter: filename=tinysegmenter-0.3-py3-none-any.whl size=13552 sha256=efb4426303ebc02dfddb28c10d85640f2b2aa4e2bbdd94d27e51a0f080f323f0\n",
            "  Stored in directory: /root/.cache/pip/wheels/99/74/83/8fac1c8d9c648cfabebbbffe97a889f6624817f3aa0bbe6c09\n",
            "  Building wheel for feedfinder2 (setup.py) ... \u001b[?25l\u001b[?25hdone\n",
            "  Created wheel for feedfinder2: filename=feedfinder2-0.0.4-py3-none-any.whl size=3354 sha256=44eb431190de47bcd937e1bf4decfa21a039e39c5a1309b3785e2a42181bd3d1\n",
            "  Stored in directory: /root/.cache/pip/wheels/b6/09/68/a9f15498ac02c23dde29f18745bc6a6f574ba4ab41861a3575\n",
            "  Building wheel for jieba3k (setup.py) ... \u001b[?25l\u001b[?25hdone\n",
            "  Created wheel for jieba3k: filename=jieba3k-0.35.1-py3-none-any.whl size=7398405 sha256=5840bbde153bfbb9179c17c0f5a6bb18f559979ce617a2a6d9b7fe37f55d2c54\n",
            "  Stored in directory: /root/.cache/pip/wheels/1f/7e/0c/54f3b0f5164278677899f2db08f2b07943ce2d024a3c862afb\n",
            "  Building wheel for sgmllib3k (setup.py) ... \u001b[?25l\u001b[?25hdone\n",
            "  Created wheel for sgmllib3k: filename=sgmllib3k-1.0.0-py3-none-any.whl size=6066 sha256=24b3f487f82dc298b2d0d14e13562f6cb2d06143208eaf790931a77beb7530e1\n",
            "  Stored in directory: /root/.cache/pip/wheels/83/63/2f/117884c3b19d46b64d3d61690333aa80c88dc14050e269c546\n",
            "Successfully built tinysegmenter feedfinder2 jieba3k sgmllib3k\n",
            "Installing collected packages: sgmllib3k, requests-file, tldextract, tinysegmenter, jieba3k, feedparser, feedfinder2, cssselect, newspaper3K\n",
            "Successfully installed cssselect-1.2.0 feedfinder2-0.0.4 feedparser-6.0.10 jieba3k-0.35.1 newspaper3K-0.2.8 requests-file-1.5.1 sgmllib3k-1.0.0 tinysegmenter-0.3 tldextract-3.4.0\n",
            "Looking in indexes: https://pypi.org/simple, https://us-python.pkg.dev/colab-wheels/public/simple/\n",
            "Requirement already satisfied: newspaper3K in /usr/local/lib/python3.8/dist-packages (0.2.8)\n",
            "Requirement already satisfied: python-dateutil>=2.5.3 in /usr/local/lib/python3.8/dist-packages (from newspaper3K) (2.8.2)\n",
            "Requirement already satisfied: feedfinder2>=0.0.4 in /usr/local/lib/python3.8/dist-packages (from newspaper3K) (0.0.4)\n",
            "Requirement already satisfied: jieba3k>=0.35.1 in /usr/local/lib/python3.8/dist-packages (from newspaper3K) (0.35.1)\n",
            "Requirement already satisfied: requests>=2.10.0 in /usr/local/lib/python3.8/dist-packages (from newspaper3K) (2.23.0)\n",
            "Requirement already satisfied: cssselect>=0.9.2 in /usr/local/lib/python3.8/dist-packages (from newspaper3K) (1.2.0)\n",
            "Requirement already satisfied: Pillow>=3.3.0 in /usr/local/lib/python3.8/dist-packages (from newspaper3K) (7.1.2)\n",
            "Requirement already satisfied: tinysegmenter==0.3 in /usr/local/lib/python3.8/dist-packages (from newspaper3K) (0.3)\n",
            "Requirement already satisfied: beautifulsoup4>=4.4.1 in /usr/local/lib/python3.8/dist-packages (from newspaper3K) (4.6.3)\n",
            "Requirement already satisfied: nltk>=3.2.1 in /usr/local/lib/python3.8/dist-packages (from newspaper3K) (3.7)\n",
            "Requirement already satisfied: tldextract>=2.0.1 in /usr/local/lib/python3.8/dist-packages (from newspaper3K) (3.4.0)\n",
            "Requirement already satisfied: PyYAML>=3.11 in /usr/local/lib/python3.8/dist-packages (from newspaper3K) (6.0)\n",
            "Requirement already satisfied: feedparser>=5.2.1 in /usr/local/lib/python3.8/dist-packages (from newspaper3K) (6.0.10)\n",
            "Requirement already satisfied: lxml>=3.6.0 in /usr/local/lib/python3.8/dist-packages (from newspaper3K) (4.9.2)\n",
            "Requirement already satisfied: six in /usr/local/lib/python3.8/dist-packages (from feedfinder2>=0.0.4->newspaper3K) (1.15.0)\n",
            "Requirement already satisfied: sgmllib3k in /usr/local/lib/python3.8/dist-packages (from feedparser>=5.2.1->newspaper3K) (1.0.0)\n",
            "Requirement already satisfied: tqdm in /usr/local/lib/python3.8/dist-packages (from nltk>=3.2.1->newspaper3K) (4.64.1)\n",
            "Requirement already satisfied: joblib in /usr/local/lib/python3.8/dist-packages (from nltk>=3.2.1->newspaper3K) (1.2.0)\n",
            "Requirement already satisfied: click in /usr/local/lib/python3.8/dist-packages (from nltk>=3.2.1->newspaper3K) (7.1.2)\n",
            "Requirement already satisfied: regex>=2021.8.3 in /usr/local/lib/python3.8/dist-packages (from nltk>=3.2.1->newspaper3K) (2022.6.2)\n",
            "Requirement already satisfied: urllib3!=1.25.0,!=1.25.1,<1.26,>=1.21.1 in /usr/local/lib/python3.8/dist-packages (from requests>=2.10.0->newspaper3K) (1.24.3)\n",
            "Requirement already satisfied: certifi>=2017.4.17 in /usr/local/lib/python3.8/dist-packages (from requests>=2.10.0->newspaper3K) (2022.12.7)\n",
            "Requirement already satisfied: chardet<4,>=3.0.2 in /usr/local/lib/python3.8/dist-packages (from requests>=2.10.0->newspaper3K) (3.0.4)\n",
            "Requirement already satisfied: idna<3,>=2.5 in /usr/local/lib/python3.8/dist-packages (from requests>=2.10.0->newspaper3K) (2.10)\n",
            "Requirement already satisfied: requests-file>=1.4 in /usr/local/lib/python3.8/dist-packages (from tldextract>=2.0.1->newspaper3K) (1.5.1)\n",
            "Requirement already satisfied: filelock>=3.0.8 in /usr/local/lib/python3.8/dist-packages (from tldextract>=2.0.1->newspaper3K) (3.8.2)\n"
          ]
        }
      ]
    },
    {
      "cell_type": "code",
      "source": [
        "#importer les packages\n",
        "import nltk\n",
        "from newspaper import Article"
      ],
      "metadata": {
        "id": "R6eGC1tj27um"
      },
      "execution_count": 6,
      "outputs": []
    },
    {
      "cell_type": "code",
      "source": [
        "pip install article-parser\n"
      ],
      "metadata": {
        "colab": {
          "base_uri": "https://localhost:8080/"
        },
        "id": "awikpnau5F0S",
        "outputId": "94af92bb-c9ce-410f-8308-50f44d415842"
      },
      "execution_count": 11,
      "outputs": [
        {
          "output_type": "stream",
          "name": "stdout",
          "text": [
            "Looking in indexes: https://pypi.org/simple, https://us-python.pkg.dev/colab-wheels/public/simple/\n",
            "Collecting article-parser\n",
            "  Downloading article_parser-1.3.0-py3-none-any.whl (5.5 kB)\n",
            "Installing collected packages: article-parser\n",
            "Successfully installed article-parser-1.3.0\n"
          ]
        }
      ]
    },
    {
      "cell_type": "code",
      "source": [
        "#telecharger article\n",
        "#importer le module nltk et de télécharger le package punkt\n",
        "url=\"https://www.lemonde.fr/planete/article/2022/12/20/la-prise-en-charge-du-covid-19-se-normalise-de-plus-en-plus-dans-les-hopitaux-francais_6155158_3244.html\"\n",
        "url2=\"https://www.un.org/fr/coronavirus/%E2%80%9Cour-world-can-only-get-ahead-virus-one-way-together%E2%80%9D\"\n",
        "article=Article(url)\n",
        "article1=Article(url2)\n"
      ],
      "metadata": {
        "id": "8o4wdXSR3OAN"
      },
      "execution_count": 36,
      "outputs": []
    },
    {
      "cell_type": "code",
      "source": [
        "article.download()\n",
        "article.parse()\n",
        "nltk.download('punkt')\n",
        "article.nlp()"
      ],
      "metadata": {
        "colab": {
          "base_uri": "https://localhost:8080/"
        },
        "id": "PCvlwspp8c-b",
        "outputId": "c2a20666-290f-435c-8bb4-e494481e2c08"
      },
      "execution_count": 37,
      "outputs": [
        {
          "output_type": "stream",
          "name": "stderr",
          "text": [
            "[nltk_data] Downloading package punkt to /root/nltk_data...\n",
            "[nltk_data]   Package punkt is already up-to-date!\n"
          ]
        }
      ]
    },
    {
      "cell_type": "code",
      "source": [
        "#acceder au titre \n",
        "print(article.title)"
      ],
      "metadata": {
        "colab": {
          "base_uri": "https://localhost:8080/"
        },
        "id": "KkaZdtsX5QSS",
        "outputId": "e46e7b35-972c-4ee9-c5af-c5893ebc4ed0"
      },
      "execution_count": 38,
      "outputs": [
        {
          "output_type": "stream",
          "name": "stdout",
          "text": [
            "La prise en charge du Covid-19 se normalise de plus en plus dans les hôpitaux français\n"
          ]
        }
      ]
    },
    {
      "cell_type": "code",
      "source": [
        "article.publish_date"
      ],
      "metadata": {
        "colab": {
          "base_uri": "https://localhost:8080/"
        },
        "id": "9vMlOy3j9BAy",
        "outputId": "6d3bdc93-650d-4285-8f51-33261f2e1b7d"
      },
      "execution_count": 41,
      "outputs": [
        {
          "output_type": "execute_result",
          "data": {
            "text/plain": [
              "datetime.datetime(2022, 12, 20, 0, 0)"
            ]
          },
          "metadata": {},
          "execution_count": 41
        }
      ]
    },
    {
      "cell_type": "code",
      "source": [
        "#acceder au auteur\n",
        "article.authors"
      ],
      "metadata": {
        "colab": {
          "base_uri": "https://localhost:8080/"
        },
        "id": "-oIr8Gys5rmS",
        "outputId": "2f65aa71-5b06-4062-e419-3a657309b9a9"
      },
      "execution_count": 40,
      "outputs": [
        {
          "output_type": "execute_result",
          "data": {
            "text/plain": [
              "['Philippe Escande',\n",
              " 'Rafaële Rivais',\n",
              " 'Ancien Secrétaire National Cfdt',\n",
              " 'Ancien Président De L Unedic',\n",
              " 'Militant Associatif',\n",
              " 'Clara Georges',\n",
              " 'Stéphane Rodrigues',\n",
              " 'Maître De Conférences',\n",
              " 'Droit Européen',\n",
              " 'Droit Public']"
            ]
          },
          "metadata": {},
          "execution_count": 40
        }
      ]
    },
    {
      "cell_type": "code",
      "source": [
        "print(article.text)"
      ],
      "metadata": {
        "colab": {
          "base_uri": "https://localhost:8080/"
        },
        "id": "NCkRqJHa6kZ1",
        "outputId": "83b2e8eb-21fb-496e-f61c-2817fd0d5240"
      },
      "execution_count": 39,
      "outputs": [
        {
          "output_type": "stream",
          "name": "stdout",
          "text": [
            "Dans la zone d’accueil des patients atteints du Covid-19, au service d'urgences de l’hôpital Pasteur 2 de Nice, le 26 février 2021. LAURENT CARRÉ\n",
            "\n",
            "Après presque trois ans d’épidémie, quel poids le Covid-19 représente-t-il pour l’hôpital ? Alors que les virus respiratoires de la saison hivernale mettent les établissements sous tension, le Covid complique encore la difficile comptabilité des lits hospitaliers, s’ajoutant aux épidémies de grippe et de bronchiolite qui submergent les services. Pour autant, une forme de normalisation de la maladie s’observe depuis plusieurs mois déjà. Les « unités Covid » regroupant les patients touchés par le virus, isolés du reste de l’hôpital, semblent un lointain souvenir dans de nombreux établissements. De plus en plus, le Covid-19 s’installe dans le quotidien des soignants.\n",
            "\n",
            "Lire aussi : Article réservé à nos abonnés Covid-19 : en France, l’épidémie progresse moins vite\n",
            "\n",
            "« On n’est plus du tout dans la même dimension émotionnelle et de risque infectieux qu’en 2020, souligne Marc Lambert, chef de service de médecine polyvalente de post-urgence au centre hospitalier universitaire (CHU) de Lille. Notre vie a changé ; on peut dire “merci” à la vaccination. » Pour l’ancien responsable de l’unité Covid mise en place lors de la première vague et répartie dans les services depuis 2021 – comme dans beaucoup d’établissements –, « le Covid doit être intégré comme un élément quotidien dans la prise en charge des patients ». « Ce n’est plus logique de traiter ces patients à part, les soignants s’adaptent et apprennent à gérer ce risque infectieux », ajoute le médecin.\n",
            "\n",
            "Un mois et demi après le début de la neuvième vague de Covid-19, début novembre, le nombre de contaminations semble avoir atteint un plateau haut, avec 62 000 cas recensés le 12 décembre, ce que confirmera peut-être un pic dans les prochains jours. Le nombre d’admissions à l’hôpital continue, lui, d’augmenter, et dépasse déjà les niveaux de la septième vague, en juillet, avec 1 500 personnes hospitalisées en moyenne par jour. Des indicateurs élevés, donc, mais qui n’inquiètent plus les soignants de la même manière.\n",
            "\n",
            "Le profil des patients a changé\n",
            "\n",
            "Dans la plupart des établissements interrogés, les patients traités pour Covid-19 représentent environ 10 % des hospitalisés, à peu près au même niveau, voire en deçà, que la grippe ou la bronchiolite. « Ces pneumopathies virales représentent à elles trois la moitié des admissions, avec des tableaux cliniques qui se ressemblent », relève Nathan Peiffer-Smadja, infectiologue à l’hôpital Bichat, à Paris. Par ailleurs, environ 40 % des patients ayant été testés positifs au SARS-CoV-2 à l’hôpital ont été admis pour une raison différente. Le Covid a certes pu empirer leur état, mais il ne va pas impliquer les mêmes soins.\n",
            "\n",
            "Il vous reste 60.03% de cet article à lire. La suite est réservée aux abonnés.\n"
          ]
        }
      ]
    },
    {
      "cell_type": "code",
      "source": [
        "#get the top image\n",
        "article.top_image"
      ],
      "metadata": {
        "colab": {
          "base_uri": "https://localhost:8080/",
          "height": 35
        },
        "id": "jFnRFduX9Hu9",
        "outputId": "e2ad595e-6d42-44fb-a80d-de57b6092538"
      },
      "execution_count": 42,
      "outputs": [
        {
          "output_type": "execute_result",
          "data": {
            "text/plain": [
              "'https://img.lemde.fr/2022/12/19/0/0/4000/2666/1440/960/60/0/68ba269_1671491838794-hopital-pasteur-laurent-carre-66.jpg'"
            ],
            "application/vnd.google.colaboratory.intrinsic+json": {
              "type": "string"
            }
          },
          "metadata": {},
          "execution_count": 42
        }
      ]
    },
    {
      "cell_type": "code",
      "source": [
        "print(article.summary)"
      ],
      "metadata": {
        "colab": {
          "base_uri": "https://localhost:8080/"
        },
        "id": "gQmMDpbg9Qzg",
        "outputId": "5963201e-7c23-4f61-c85a-103edd0f7710"
      },
      "execution_count": 43,
      "outputs": [
        {
          "output_type": "stream",
          "name": "stdout",
          "text": [
            "Dans la zone d’accueil des patients atteints du Covid-19, au service d'urgences de l’hôpital Pasteur 2 de Nice, le 26 février 2021.\n",
            "Les « unités Covid » regroupant les patients touchés par le virus, isolés du reste de l’hôpital, semblent un lointain souvenir dans de nombreux établissements.\n",
            "De plus en plus, le Covid-19 s’installe dans le quotidien des soignants.\n",
            "Notre vie a changé ; on peut dire “merci” à la vaccination.\n",
            "Par ailleurs, environ 40 % des patients ayant été testés positifs au SARS-CoV-2 à l’hôpital ont été admis pour une raison différente.\n"
          ]
        }
      ]
    }
  ]
}