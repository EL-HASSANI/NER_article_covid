{
  "nbformat": 4,
  "nbformat_minor": 0,
  "metadata": {
    "colab": {
      "provenance": []
    },
    "kernelspec": {
      "name": "python3",
      "display_name": "Python 3"
    },
    "language_info": {
      "name": "python"
    }
  },
  "cells": [
    {
      "cell_type": "code",
      "execution_count": 1,
      "metadata": {
        "colab": {
          "base_uri": "https://localhost:8080/"
        },
        "id": "Q1VTv7r4Hn_V",
        "outputId": "061f8d12-08b6-498d-f357-8c55bbbe14c4"
      },
      "outputs": [
        {
          "output_type": "stream",
          "name": "stderr",
          "text": [
            "/usr/local/lib/python3.8/dist-packages/torch/cuda/__init__.py:497: UserWarning: Can't initialize NVML\n",
            "  warnings.warn(\"Can't initialize NVML\")\n"
          ]
        }
      ],
      "source": [
        "import spacy\n"
      ]
    },
    {
      "cell_type": "code",
      "source": [
        "# !python -m spacy download en_core_web_sm\n",
        "!python -m spacy download en_core_web_lg"
      ],
      "metadata": {
        "colab": {
          "base_uri": "https://localhost:8080/"
        },
        "id": "dGYyjySAH0hZ",
        "outputId": "8e4527b4-ac03-4eb9-859b-b79fab8029aa"
      },
      "execution_count": 2,
      "outputs": [
        {
          "output_type": "stream",
          "name": "stdout",
          "text": [
            "/usr/local/lib/python3.8/dist-packages/torch/cuda/__init__.py:497: UserWarning: Can't initialize NVML\n",
            "  warnings.warn(\"Can't initialize NVML\")\n",
            "2022-12-21 11:56:29.650171: E tensorflow/stream_executor/cuda/cuda_driver.cc:271] failed call to cuInit: CUDA_ERROR_NO_DEVICE: no CUDA-capable device is detected\n",
            "Looking in indexes: https://pypi.org/simple, https://us-python.pkg.dev/colab-wheels/public/simple/\n",
            "Collecting en-core-web-lg==3.4.1\n",
            "  Downloading https://github.com/explosion/spacy-models/releases/download/en_core_web_lg-3.4.1/en_core_web_lg-3.4.1-py3-none-any.whl (587.7 MB)\n",
            "\u001b[K     |████████████████████████████████| 587.7 MB 104 kB/s eta 0:00:01Requirement already satisfied: certifi>=2017.4.17 in /usr/local/lib/python3.8/dist-packages (from requests<3.0.0,>=2.13.0->spacy<3.5.0,>=3.4.0->en-core-web-lg==3.4.1) (2022.12.7)\n",
            "Requirement already satisfied: chardet<4,>=3.0.2 in /usr/local/lib/python3.8/dist-packages (from requests<3.0.0,>=2.13.0->spacy<3.5.0,>=3.4.0->en-core-web-lg==3.4.1) (3.0.4)\n",
            "Requirement already satisfied: idna<3,>=2.5 in /usr/local/lib/python3.8/dist-packages (from requests<3.0.0,>=2.13.0->spacy<3.5.0,>=3.4.0->en-core-web-lg==3.4.1) (2.10)\n",
            "Requirement already satisfied: urllib3!=1.25.0,!=1.25.1,<1.26,>=1.21.1 in /usr/local/lib/python3.8/dist-packages (from requests<3.0.0,>=2.13.0->spacy<3.5.0,>=3.4.0->en-core-web-lg==3.4.1) (1.24.3)\n",
            "Requirement already satisfied: blis<0.8.0,>=0.7.8 in /usr/local/lib/python3.8/dist-packages (from thinc<8.2.0,>=8.1.0->spacy<3.5.0,>=3.4.0->en-core-web-lg==3.4.1) (0.7.9)\n",
            "Requirement already satisfied: confection<1.0.0,>=0.0.1 in /usr/local/lib/python3.8/dist-packages (from thinc<8.2.0,>=8.1.0->spacy<3.5.0,>=3.4.0->en-core-web-lg==3.4.1) (0.0.3)\n",
            "Requirement already satisfied: click<9.0.0,>=7.1.1 in /usr/local/lib/python3.8/dist-packages (from typer<0.8.0,>=0.3.0->spacy<3.5.0,>=3.4.0->en-core-web-lg==3.4.1) (7.1.2)\n",
            "Requirement already satisfied: MarkupSafe>=0.23 in /usr/local/lib/python3.8/dist-packages (from jinja2->spacy<3.5.0,>=3.4.0->en-core-web-lg==3.4.1) (2.0.1)\n",
            "Installing collected packages: en-core-web-lg\n",
            "Successfully installed en-core-web-lg-3.4.1\n",
            "\u001b[38;5;2m✔ Download and installation successful\u001b[0m\n",
            "You can now load the package via spacy.load('en_core_web_lg')\n"
          ]
        }
      ]
    },
    {
      "cell_type": "code",
      "source": [
        "nlp = spacy.load(\"en_core_web_lg\")\n",
        "nlp"
      ],
      "metadata": {
        "colab": {
          "base_uri": "https://localhost:8080/"
        },
        "id": "pzuK-vRiNxo7",
        "outputId": "e120b484-34f0-4d8f-cf1b-24944cb94dd8"
      },
      "execution_count": 3,
      "outputs": [
        {
          "output_type": "execute_result",
          "data": {
            "text/plain": [
              "<spacy.lang.en.English at 0x7f8982331e50>"
            ]
          },
          "metadata": {},
          "execution_count": 3
        }
      ]
    },
    {
      "cell_type": "code",
      "source": [
        "import json\n",
        "data=json.load(open('/annotations.json'))\n",
        "print(data)"
      ],
      "metadata": {
        "colab": {
          "base_uri": "https://localhost:8080/"
        },
        "id": "ShnsDbAlN0Gx",
        "outputId": "bed96d21-bb6d-491c-bf73-8542c28ff939"
      },
      "execution_count": 7,
      "outputs": [
        {
          "output_type": "stream",
          "name": "stdout",
          "text": [
            "{'classes': ['DATE', 'LOCALISATION', 'PERSON', 'MALADIE'], 'annotations': [[\"La prise en charge du Covid-19 se normalise de plus en plus dans les hôpitaux français\\r\\n\\r\\nDans la zone d’accueil des patients atteints du Covid-19, au service d'urgences de l’hôpital Pasteur 2 de Nice, le 26 février 2021. LAURENT CARRÉ\\r\\n\\r\\nAprès presque trois ans d’épidémie, quel poids le Covid-19 représente-t-il pour l’hôpital ? Alors que les virus respiratoires de la saison hivernale mettent les établissements sous tension, le Covid complique encore la difficile comptabilité des lits hospitaliers, s’ajoutant aux épidémies de grippe et de bronchiolite qui submergent les services. Pour autant, une forme de normalisation de la maladie s’observe depuis plusieurs mois déjà. Les « unités Covid » regroupant les patients touchés par le virus, isolés du reste de l’hôpital, semblent un lointain souvenir dans de nombreux établissements. De plus en plus, le Covid-19 s’installe dans le quotidien des soignants.\\r\\n\\r\\nLire aussi : Article réservé à nos abonnés Covid-19 : en France, l’épidémie progresse moins vite\\r\\n\\r\\n« On n’est plus du tout dans la même dimension émotionnelle et de risque infectieux qu’en 2020, souligne Marc Lambert, chef de service de médecine polyvalente de post-urgence au centre hospitalier universitaire (CHU) de Lille. Notre vie a changé ; on peut dire “merci” à la vaccination. » Pour l’ancien responsable de l’unité Covid mise en place lors de la première vague et répartie dans les services depuis 2021 – comme dans beaucoup d’établissements –, « le Covid doit être intégré comme un élément quotidien dans la prise en charge des patients ». « Ce n’est plus logique de traiter ces patients à part, les soignants s’adaptent et apprennent à gérer ce risque infectieux », ajoute le médecin.\\r\\n\\r\\nUn mois et demi après le début de la neuvième vague de Covid-19, début novembre, le nombre de contaminations semble avoir atteint un plateau haut, avec 62 000 cas recensés le 12 décembre, ce que confirmera peut-être un pic dans les prochains jours. Le nombre d’admissions à l’hôpital continue, lui, d’augmenter, et dépasse déjà les niveaux de la septième vague, en juillet, avec 1 500 personnes hospitalisées en moyenne par jour. Des indicateurs élevés, donc, mais qui n’inquiètent plus les soignants de la même manière.\\r\\n\\r\\nLe profil des patients a changé\", {'entities': [[22, 30, 'MALADIE'], [69, 86, 'LOCALISATION'], [138, 146, 'MALADIE'], [196, 200, 'LOCALISATION'], [205, 221, 'DATE'], [289, 297, 'MALADIE'], [432, 437, 'MALADIE'], [532, 538, 'MALADIE'], [545, 557, 'MALADIE'], [685, 697, 'MALADIE'], [859, 867, 'MALADIE'], [958, 966, 'MALADIE'], [972, 978, 'LOCALISATION'], [1105, 1109, 'DATE'], [1120, 1132, 'PERSON'], [1193, 1241, 'LOCALISATION'], [1424, 1428, 'DATE'], [1476, 1481, 'MALADIE'], [1701, 1712, 'PERSON'], [1771, 1779, 'MALADIE'], [1781, 1795, 'DATE'], [1891, 1902, 'DATE'], [2078, 2088, 'DATE']]}]]}\n"
          ]
        }
      ]
    },
    {
      "cell_type": "code",
      "source": [
        "data['classes'][0]"
      ],
      "metadata": {
        "colab": {
          "base_uri": "https://localhost:8080/",
          "height": 35
        },
        "id": "qqu543ZOQ1-M",
        "outputId": "701e02e2-b99f-4a43-a7c7-be4f80bb1301"
      },
      "execution_count": 8,
      "outputs": [
        {
          "output_type": "execute_result",
          "data": {
            "text/plain": [
              "'DATE'"
            ],
            "application/vnd.google.colaboratory.intrinsic+json": {
              "type": "string"
            }
          },
          "metadata": {},
          "execution_count": 8
        }
      ]
    },
    {
      "cell_type": "code",
      "source": [
        "data['annotations']"
      ],
      "metadata": {
        "colab": {
          "base_uri": "https://localhost:8080/"
        },
        "id": "ID3Y26YZQLce",
        "outputId": "aa7c32d4-a44b-46c3-b543-0db21d90b876"
      },
      "execution_count": 9,
      "outputs": [
        {
          "output_type": "execute_result",
          "data": {
            "text/plain": [
              "[[\"La prise en charge du Covid-19 se normalise de plus en plus dans les hôpitaux français\\r\\n\\r\\nDans la zone d’accueil des patients atteints du Covid-19, au service d'urgences de l’hôpital Pasteur 2 de Nice, le 26 février 2021. LAURENT CARRÉ\\r\\n\\r\\nAprès presque trois ans d’épidémie, quel poids le Covid-19 représente-t-il pour l’hôpital ? Alors que les virus respiratoires de la saison hivernale mettent les établissements sous tension, le Covid complique encore la difficile comptabilité des lits hospitaliers, s’ajoutant aux épidémies de grippe et de bronchiolite qui submergent les services. Pour autant, une forme de normalisation de la maladie s’observe depuis plusieurs mois déjà. Les « unités Covid » regroupant les patients touchés par le virus, isolés du reste de l’hôpital, semblent un lointain souvenir dans de nombreux établissements. De plus en plus, le Covid-19 s’installe dans le quotidien des soignants.\\r\\n\\r\\nLire aussi : Article réservé à nos abonnés Covid-19 : en France, l’épidémie progresse moins vite\\r\\n\\r\\n« On n’est plus du tout dans la même dimension émotionnelle et de risque infectieux qu’en 2020, souligne Marc Lambert, chef de service de médecine polyvalente de post-urgence au centre hospitalier universitaire (CHU) de Lille. Notre vie a changé ; on peut dire “merci” à la vaccination. » Pour l’ancien responsable de l’unité Covid mise en place lors de la première vague et répartie dans les services depuis 2021 – comme dans beaucoup d’établissements –, « le Covid doit être intégré comme un élément quotidien dans la prise en charge des patients ». « Ce n’est plus logique de traiter ces patients à part, les soignants s’adaptent et apprennent à gérer ce risque infectieux », ajoute le médecin.\\r\\n\\r\\nUn mois et demi après le début de la neuvième vague de Covid-19, début novembre, le nombre de contaminations semble avoir atteint un plateau haut, avec 62 000 cas recensés le 12 décembre, ce que confirmera peut-être un pic dans les prochains jours. Le nombre d’admissions à l’hôpital continue, lui, d’augmenter, et dépasse déjà les niveaux de la septième vague, en juillet, avec 1 500 personnes hospitalisées en moyenne par jour. Des indicateurs élevés, donc, mais qui n’inquiètent plus les soignants de la même manière.\\r\\n\\r\\nLe profil des patients a changé\",\n",
              "  {'entities': [[22, 30, 'MALADIE'],\n",
              "    [69, 86, 'LOCALISATION'],\n",
              "    [138, 146, 'MALADIE'],\n",
              "    [196, 200, 'LOCALISATION'],\n",
              "    [205, 221, 'DATE'],\n",
              "    [289, 297, 'MALADIE'],\n",
              "    [432, 437, 'MALADIE'],\n",
              "    [532, 538, 'MALADIE'],\n",
              "    [545, 557, 'MALADIE'],\n",
              "    [685, 697, 'MALADIE'],\n",
              "    [859, 867, 'MALADIE'],\n",
              "    [958, 966, 'MALADIE'],\n",
              "    [972, 978, 'LOCALISATION'],\n",
              "    [1105, 1109, 'DATE'],\n",
              "    [1120, 1132, 'PERSON'],\n",
              "    [1193, 1241, 'LOCALISATION'],\n",
              "    [1424, 1428, 'DATE'],\n",
              "    [1476, 1481, 'MALADIE'],\n",
              "    [1701, 1712, 'PERSON'],\n",
              "    [1771, 1779, 'MALADIE'],\n",
              "    [1781, 1795, 'DATE'],\n",
              "    [1891, 1902, 'DATE'],\n",
              "    [2078, 2088, 'DATE']]}]]"
            ]
          },
          "metadata": {},
          "execution_count": 9
        }
      ]
    },
    {
      "cell_type": "code",
      "source": [
        "entity_name = \"LOCALISATION\"\n",
        "train_data = data['annotations']\n",
        "train_data = [tuple(i) for i in train_data]"
      ],
      "metadata": {
        "id": "_dHca_pWS9s-"
      },
      "execution_count": 10,
      "outputs": []
    },
    {
      "cell_type": "code",
      "source": [
        "train_data"
      ],
      "metadata": {
        "colab": {
          "base_uri": "https://localhost:8080/"
        },
        "id": "N5RoLVbMTu-6",
        "outputId": "ac6dffca-c63a-48cd-847e-4e31b38c0ac7"
      },
      "execution_count": 11,
      "outputs": [
        {
          "output_type": "execute_result",
          "data": {
            "text/plain": [
              "[(\"La prise en charge du Covid-19 se normalise de plus en plus dans les hôpitaux français\\r\\n\\r\\nDans la zone d’accueil des patients atteints du Covid-19, au service d'urgences de l’hôpital Pasteur 2 de Nice, le 26 février 2021. LAURENT CARRÉ\\r\\n\\r\\nAprès presque trois ans d’épidémie, quel poids le Covid-19 représente-t-il pour l’hôpital ? Alors que les virus respiratoires de la saison hivernale mettent les établissements sous tension, le Covid complique encore la difficile comptabilité des lits hospitaliers, s’ajoutant aux épidémies de grippe et de bronchiolite qui submergent les services. Pour autant, une forme de normalisation de la maladie s’observe depuis plusieurs mois déjà. Les « unités Covid » regroupant les patients touchés par le virus, isolés du reste de l’hôpital, semblent un lointain souvenir dans de nombreux établissements. De plus en plus, le Covid-19 s’installe dans le quotidien des soignants.\\r\\n\\r\\nLire aussi : Article réservé à nos abonnés Covid-19 : en France, l’épidémie progresse moins vite\\r\\n\\r\\n« On n’est plus du tout dans la même dimension émotionnelle et de risque infectieux qu’en 2020, souligne Marc Lambert, chef de service de médecine polyvalente de post-urgence au centre hospitalier universitaire (CHU) de Lille. Notre vie a changé ; on peut dire “merci” à la vaccination. » Pour l’ancien responsable de l’unité Covid mise en place lors de la première vague et répartie dans les services depuis 2021 – comme dans beaucoup d’établissements –, « le Covid doit être intégré comme un élément quotidien dans la prise en charge des patients ». « Ce n’est plus logique de traiter ces patients à part, les soignants s’adaptent et apprennent à gérer ce risque infectieux », ajoute le médecin.\\r\\n\\r\\nUn mois et demi après le début de la neuvième vague de Covid-19, début novembre, le nombre de contaminations semble avoir atteint un plateau haut, avec 62 000 cas recensés le 12 décembre, ce que confirmera peut-être un pic dans les prochains jours. Le nombre d’admissions à l’hôpital continue, lui, d’augmenter, et dépasse déjà les niveaux de la septième vague, en juillet, avec 1 500 personnes hospitalisées en moyenne par jour. Des indicateurs élevés, donc, mais qui n’inquiètent plus les soignants de la même manière.\\r\\n\\r\\nLe profil des patients a changé\",\n",
              "  {'entities': [[22, 30, 'MALADIE'],\n",
              "    [69, 86, 'LOCALISATION'],\n",
              "    [138, 146, 'MALADIE'],\n",
              "    [196, 200, 'LOCALISATION'],\n",
              "    [205, 221, 'DATE'],\n",
              "    [289, 297, 'MALADIE'],\n",
              "    [432, 437, 'MALADIE'],\n",
              "    [532, 538, 'MALADIE'],\n",
              "    [545, 557, 'MALADIE'],\n",
              "    [685, 697, 'MALADIE'],\n",
              "    [859, 867, 'MALADIE'],\n",
              "    [958, 966, 'MALADIE'],\n",
              "    [972, 978, 'LOCALISATION'],\n",
              "    [1105, 1109, 'DATE'],\n",
              "    [1120, 1132, 'PERSON'],\n",
              "    [1193, 1241, 'LOCALISATION'],\n",
              "    [1424, 1428, 'DATE'],\n",
              "    [1476, 1481, 'MALADIE'],\n",
              "    [1701, 1712, 'PERSON'],\n",
              "    [1771, 1779, 'MALADIE'],\n",
              "    [1781, 1795, 'DATE'],\n",
              "    [1891, 1902, 'DATE'],\n",
              "    [2078, 2088, 'DATE']]})]"
            ]
          },
          "metadata": {},
          "execution_count": 11
        }
      ]
    },
    {
      "cell_type": "code",
      "source": [
        "for i in train_data:\n",
        "    if i[1]['entities'] == []:\n",
        "        i[1]['entities'] = (0, 0, entity_name)\n",
        "    else:\n",
        "        i[1]['entities'][0] = tuple(i[1]['entities'][0])"
      ],
      "metadata": {
        "id": "fvKFu7HqUJCM"
      },
      "execution_count": 16,
      "outputs": []
    },
    {
      "cell_type": "code",
      "source": [
        "train_data"
      ],
      "metadata": {
        "colab": {
          "base_uri": "https://localhost:8080/"
        },
        "id": "knc2BSthURzA",
        "outputId": "5ba00210-da97-4ba6-ce09-bd78a03c1e28"
      },
      "execution_count": 17,
      "outputs": [
        {
          "output_type": "execute_result",
          "data": {
            "text/plain": [
              "[(\"La prise en charge du Covid-19 se normalise de plus en plus dans les hôpitaux français\\r\\n\\r\\nDans la zone d’accueil des patients atteints du Covid-19, au service d'urgences de l’hôpital Pasteur 2 de Nice, le 26 février 2021. LAURENT CARRÉ\\r\\n\\r\\nAprès presque trois ans d’épidémie, quel poids le Covid-19 représente-t-il pour l’hôpital ? Alors que les virus respiratoires de la saison hivernale mettent les établissements sous tension, le Covid complique encore la difficile comptabilité des lits hospitaliers, s’ajoutant aux épidémies de grippe et de bronchiolite qui submergent les services. Pour autant, une forme de normalisation de la maladie s’observe depuis plusieurs mois déjà. Les « unités Covid » regroupant les patients touchés par le virus, isolés du reste de l’hôpital, semblent un lointain souvenir dans de nombreux établissements. De plus en plus, le Covid-19 s’installe dans le quotidien des soignants.\\r\\n\\r\\nLire aussi : Article réservé à nos abonnés Covid-19 : en France, l’épidémie progresse moins vite\\r\\n\\r\\n« On n’est plus du tout dans la même dimension émotionnelle et de risque infectieux qu’en 2020, souligne Marc Lambert, chef de service de médecine polyvalente de post-urgence au centre hospitalier universitaire (CHU) de Lille. Notre vie a changé ; on peut dire “merci” à la vaccination. » Pour l’ancien responsable de l’unité Covid mise en place lors de la première vague et répartie dans les services depuis 2021 – comme dans beaucoup d’établissements –, « le Covid doit être intégré comme un élément quotidien dans la prise en charge des patients ». « Ce n’est plus logique de traiter ces patients à part, les soignants s’adaptent et apprennent à gérer ce risque infectieux », ajoute le médecin.\\r\\n\\r\\nUn mois et demi après le début de la neuvième vague de Covid-19, début novembre, le nombre de contaminations semble avoir atteint un plateau haut, avec 62 000 cas recensés le 12 décembre, ce que confirmera peut-être un pic dans les prochains jours. Le nombre d’admissions à l’hôpital continue, lui, d’augmenter, et dépasse déjà les niveaux de la septième vague, en juillet, avec 1 500 personnes hospitalisées en moyenne par jour. Des indicateurs élevés, donc, mais qui n’inquiètent plus les soignants de la même manière.\\r\\n\\r\\nLe profil des patients a changé\",\n",
              "  {'entities': [(22, 30, 'MALADIE'),\n",
              "    [69, 86, 'LOCALISATION'],\n",
              "    [138, 146, 'MALADIE'],\n",
              "    [196, 200, 'LOCALISATION'],\n",
              "    [205, 221, 'DATE'],\n",
              "    [289, 297, 'MALADIE'],\n",
              "    [432, 437, 'MALADIE'],\n",
              "    [532, 538, 'MALADIE'],\n",
              "    [545, 557, 'MALADIE'],\n",
              "    [685, 697, 'MALADIE'],\n",
              "    [859, 867, 'MALADIE'],\n",
              "    [958, 966, 'MALADIE'],\n",
              "    [972, 978, 'LOCALISATION'],\n",
              "    [1105, 1109, 'DATE'],\n",
              "    [1120, 1132, 'PERSON'],\n",
              "    [1193, 1241, 'LOCALISATION'],\n",
              "    [1424, 1428, 'DATE'],\n",
              "    [1476, 1481, 'MALADIE'],\n",
              "    [1701, 1712, 'PERSON'],\n",
              "    [1771, 1779, 'MALADIE'],\n",
              "    [1781, 1795, 'DATE'],\n",
              "    [1891, 1902, 'DATE'],\n",
              "    [2078, 2088, 'DATE']]})]"
            ]
          },
          "metadata": {},
          "execution_count": 17
        }
      ]
    },
    {
      "cell_type": "markdown",
      "source": [
        "Conversion of Data to .spacy format\n",
        "\n",
        "Copy the training data and below script and run from command line\n"
      ],
      "metadata": {
        "id": "DewIMe0KUt1F"
      }
    },
    {
      "cell_type": "code",
      "source": [
        "import pandas as pd\n",
        "import os\n",
        "from tqdm import tqdm\n",
        "import spacy\n",
        "from spacy.tokens import DocBin\n",
        "\n",
        "#nlp = spacy.blank(\"en\") # load a new spacy model\n",
        "nlp = spacy.load(\"en_core_web_sm\") # load other spacy model\n",
        "\n",
        "db = DocBin() # create a DocBin object\n",
        "\n",
        "for text, annot in tqdm(train_data): # data in previous format\n",
        "    doc = nlp.make_doc(text) # create doc object from text\n",
        "    ents = []\n",
        "    for start, end, label in annot[\"entities\"]: # add character indexes\n",
        "        span = doc.char_span(start, end, label=label, alignment_mode=\"contract\")\n",
        "        if span is None:\n",
        "            print(\"Skipping entity\")\n",
        "        else:\n",
        "            ents.append(span)\n",
        "    doc.ents = ents # label the text with the ents\n",
        "    db.add(doc)\n",
        "\n",
        "os.chdir(r'/content')\n",
        "db.to_disk(\"./train.spacy\") # save the docbin object"
      ],
      "metadata": {
        "colab": {
          "base_uri": "https://localhost:8080/"
        },
        "id": "gI4gvRaGU2TC",
        "outputId": "95afd93c-ca83-443b-cf40-70a2a0566f24"
      },
      "execution_count": 18,
      "outputs": [
        {
          "output_type": "stream",
          "name": "stderr",
          "text": [
            "100%|██████████| 1/1 [00:00<00:00, 65.79it/s]\n"
          ]
        }
      ]
    },
    {
      "cell_type": "markdown",
      "source": [
        "spaCy uses DocBin class for annotated data, so we’ll have to create the DocBin objects for our training examples. This DocBin class efficiently serializes the information from a collection of Doc objects. It is faster and produces smaller data sizes than pickle, and allows the user to deserialize without executing arbitrary Python code.\n",
        "\n",
        "The indices of some entities overlap. spaCy provides a utility method filter_spans to deal with this."
      ],
      "metadata": {
        "id": "0G_GkamItsn2"
      }
    },
    {
      "cell_type": "code",
      "source": [
        "!python -m spacy train --help"
      ],
      "metadata": {
        "colab": {
          "base_uri": "https://localhost:8080/"
        },
        "id": "CybVpTnYlT4m",
        "outputId": "838d1915-f7eb-452c-e907-2d9f73288710"
      },
      "execution_count": 20,
      "outputs": [
        {
          "output_type": "stream",
          "name": "stdout",
          "text": [
            "/usr/local/lib/python3.8/dist-packages/torch/cuda/__init__.py:497: UserWarning: Can't initialize NVML\n",
            "  warnings.warn(\"Can't initialize NVML\")\n",
            "2022-12-21 12:05:30.525162: E tensorflow/stream_executor/cuda/cuda_driver.cc:271] failed call to cuInit: CUDA_ERROR_NO_DEVICE: no CUDA-capable device is detected\n",
            "Usage: python -m spacy train [OPTIONS] CONFIG_PATH\n",
            "\n",
            "  Train or update a spaCy pipeline. Requires\n",
            "  data in spaCy's binary format. To convert data\n",
            "  from other formats, use the `spacy convert`\n",
            "  command. The config file includes all settings\n",
            "  and hyperparameters used during training. To\n",
            "  override settings in the config, e.g. settings\n",
            "  that point to local paths or that you want to\n",
            "  experiment with, you can override them as\n",
            "  command line options. For instance,\n",
            "  --training.batch_size 128 overrides the value\n",
            "  of \"batch_size\" in the block \"[training]\". The\n",
            "  --code argument lets you pass in a Python file\n",
            "  that's imported before training. It can be\n",
            "  used to register custom functions and\n",
            "  architectures that can then be referenced in\n",
            "  the config.\n",
            "\n",
            "  DOCS: https://spacy.io/api/cli#train\n",
            "\n",
            "Arguments:\n",
            "  CONFIG_PATH  Path to config file  [required]\n",
            "\n",
            "Options:\n",
            "  -o, --output, --output-path PATH\n",
            "                                  Output directory\n",
            "                                  to store trained\n",
            "                                  pipeline in\n",
            "\n",
            "  -c, --code PATH                 Path to Python\n",
            "                                  file with\n",
            "                                  additional code\n",
            "                                  (registered\n",
            "                                  functions) to be\n",
            "                                  imported\n",
            "\n",
            "  -V, -VV, --verbose              Display more\n",
            "                                  information for\n",
            "                                  debugging\n",
            "                                  purposes\n",
            "                                  [default: False]\n",
            "\n",
            "  -g, --gpu-id INTEGER            GPU ID or -1 for\n",
            "                                  CPU  [default:\n",
            "                                  -1]\n",
            "\n",
            "  --help                          Show this\n",
            "                                  message and\n",
            "                                  exit.\n"
          ]
        }
      ]
    },
    {
      "cell_type": "code",
      "source": [
        "!python -m spacy init fill-config base_config.cfg config.cfg"
      ],
      "metadata": {
        "colab": {
          "base_uri": "https://localhost:8080/"
        },
        "id": "QqUpBizKq6-p",
        "outputId": "1bd1b5c5-4310-4e6b-b816-8b93283b4e54"
      },
      "execution_count": 23,
      "outputs": [
        {
          "output_type": "stream",
          "name": "stdout",
          "text": [
            "/usr/local/lib/python3.8/dist-packages/torch/cuda/__init__.py:497: UserWarning: Can't initialize NVML\n",
            "  warnings.warn(\"Can't initialize NVML\")\n",
            "2022-12-21 12:45:01.930653: E tensorflow/stream_executor/cuda/cuda_driver.cc:271] failed call to cuInit: CUDA_ERROR_NO_DEVICE: no CUDA-capable device is detected\n",
            "\u001b[38;5;2m✔ Auto-filled config with all values\u001b[0m\n",
            "\u001b[38;5;2m✔ Saved config\u001b[0m\n",
            "config.cfg\n",
            "You can now add your data and train your pipeline:\n",
            "python -m spacy train config.cfg --paths.train ./train.spacy --paths.dev ./dev.spacy\n"
          ]
        }
      ]
    },
    {
      "cell_type": "code",
      "source": [
        "!python -m spacy train config.cfg --output ./output --paths.train ./train.spacy --paths.dev ./train.spacy "
      ],
      "metadata": {
        "colab": {
          "base_uri": "https://localhost:8080/"
        },
        "id": "k6lZ6BtNx4Uz",
        "outputId": "b3e0533e-3f5e-47b9-b9dc-8fff4afd0fd8"
      },
      "execution_count": 24,
      "outputs": [
        {
          "output_type": "stream",
          "name": "stdout",
          "text": [
            "/usr/local/lib/python3.8/dist-packages/torch/cuda/__init__.py:497: UserWarning: Can't initialize NVML\n",
            "  warnings.warn(\"Can't initialize NVML\")\n",
            "2022-12-21 12:45:27.704038: E tensorflow/stream_executor/cuda/cuda_driver.cc:271] failed call to cuInit: CUDA_ERROR_NO_DEVICE: no CUDA-capable device is detected\n",
            "\u001b[38;5;2m✔ Created output directory: output\u001b[0m\n",
            "\u001b[38;5;4mℹ Saving to output directory: output\u001b[0m\n",
            "\u001b[38;5;4mℹ Using CPU\u001b[0m\n",
            "\u001b[1m\n",
            "=========================== Initializing pipeline ===========================\u001b[0m\n",
            "[2022-12-21 12:45:28,798] [INFO] Set up nlp object from config\n",
            "INFO:spacy:Set up nlp object from config\n",
            "[2022-12-21 12:45:28,812] [INFO] Pipeline: ['tok2vec', 'ner']\n",
            "INFO:spacy:Pipeline: ['tok2vec', 'ner']\n",
            "[2022-12-21 12:45:28,816] [INFO] Created vocabulary\n",
            "INFO:spacy:Created vocabulary\n",
            "[2022-12-21 12:45:28,818] [INFO] Finished initializing nlp object\n",
            "INFO:spacy:Finished initializing nlp object\n",
            "[2022-12-21 12:45:29,102] [INFO] Initialized pipeline components: ['tok2vec', 'ner']\n",
            "INFO:spacy:Initialized pipeline components: ['tok2vec', 'ner']\n",
            "\u001b[38;5;2m✔ Initialized pipeline\u001b[0m\n",
            "\u001b[1m\n",
            "============================= Training pipeline =============================\u001b[0m\n",
            "\u001b[38;5;4mℹ Pipeline: ['tok2vec', 'ner']\u001b[0m\n",
            "\u001b[38;5;4mℹ Initial learn rate: 0.001\u001b[0m\n",
            "E    #       LOSS TOK2VEC  LOSS NER  ENTS_F  ENTS_P  ENTS_R  SCORE \n",
            "---  ------  ------------  --------  ------  ------  ------  ------\n",
            "  0       0          0.00    201.50    0.00    0.00    0.00    0.00\n",
            "200     200       2726.99   5403.23  100.00  100.00  100.00    1.00\n",
            "400     400          0.00      0.00  100.00  100.00  100.00    1.00\n",
            "600     600          0.00      0.00  100.00  100.00  100.00    1.00\n",
            "1000    1000          0.00      0.00  100.00  100.00  100.00    1.00\n",
            "1200    1200          0.00      0.00  100.00  100.00  100.00    1.00\n",
            "1400    1400          0.00      0.00  100.00  100.00  100.00    1.00\n",
            "1600    1600          0.00      0.00  100.00  100.00  100.00    1.00\n",
            "1800    1800          0.00      0.00  100.00  100.00  100.00    1.00\n",
            "\u001b[38;5;2m✔ Saved pipeline to output directory\u001b[0m\n",
            "output/model-last\n"
          ]
        }
      ]
    },
    {
      "cell_type": "code",
      "source": [
        "nlp=spacy.load(\"en_core_web_sm\")\n",
        "doc = nlp(\"La prise en charge du Covid-19 se normalise de plus en plus dans les hôpitaux français Dans la zone d’accueil des patients atteints du Covid-19, au service d'urgences de l’hôpital Pasteur 2 de Nice, le 26 février 2021. LAURENT CARRÉ Après presque trois ans d’épidémie, quel poids le Covid-19 représente-t-il pour l’hôpital ? Alors que les virus respiratoires de la saison hivernale mettent les établissements sous tension, le Covid complique encore la difficile comptabilité des lits hospitaliers, s’ajoutant aux épidémies de grippe et de bronchiolite qui submergent les services. Pour autant, une forme de normalisation de la maladie s’observe depuis plusieurs mois déjà. Les « unités Covid » regroupant les patients touchés par le virus, isolés du reste de l’hôpital, semblent un lointain souvenir dans de nombreux établissements. De plus en plus, le Covid-19 s’installe dans le quotidien des soignants.Lire aussi : Article réservé à nos abonnés Covid-19 : en France, l’épidémie progresse moins vite On n’est plus du tout dans la même dimension émotionnelle et de risque infectieux qu’en 2020, souligne Marc Lambert, chef de service de médecine polyvalente de post-urgence au centre hospitalier universitaire (CHU) de Lille. Notre vie a changé ; on peut dire “merci” à la vaccination. » Pour l’ancien responsable de l’unité Covid mise en place lors de la première vague et répartie dans les services depuis 2021 – comme dans beaucoup d’établissements –, « le Covid doit être intégré comme un élément quotidien dans la prise en charge des patients ». « Ce n’est plus logique de traiter ces patients à part, les soignants s’adaptent et apprennent à gérer ce risque infectieux », ajoute le médecin. Un mois et demi après le début de la neuvième vague de Covid-19, début novembre, le nombre de contaminations semble avoir atteint un plateau haut, avec 62 000 cas recensés le 12 décembre, ce que confirmera peut-être un pic dans les prochains jours. Le nombre d’admissions à l’hôpital continue, lui, d’augmenter, et dépasse déjà les niveaux de la septième vague, en juillet, avec 1 500 personnes hospitalisées en moyenne par jour. Des indicateurs élevés, donc, mais qui n’inquiètent plus les soignants de la même manière.Le profil des patients a changé\") # input sample text\n",
        "spacy.displacy.render(doc, style=\"ent\", jupyter=True) # display in Jupyter"
      ],
      "metadata": {
        "colab": {
          "base_uri": "https://localhost:8080/",
          "height": 437
        },
        "id": "EM3DKeTRz4o3",
        "outputId": "12fa137a-60f3-4f54-9924-11ed3ffc27ff"
      },
      "execution_count": 25,
      "outputs": [
        {
          "output_type": "display_data",
          "data": {
            "text/plain": [
              "<IPython.core.display.HTML object>"
            ],
            "text/html": [
              "<span class=\"tex2jax_ignore\"><div class=\"entities\" style=\"line-height: 2.5; direction: ltr\">\n",
              "<mark class=\"entity\" style=\"background: #feca74; padding: 0.45em 0.6em; margin: 0 0.25em; line-height: 1; border-radius: 0.35em;\">\n",
              "    La\n",
              "    <span style=\"font-size: 0.8em; font-weight: bold; line-height: 1; border-radius: 0.35em; vertical-align: middle; margin-left: 0.5rem\">GPE</span>\n",
              "</mark>\n",
              " prise en charge du Covid-19 se normalise de plus en plus \n",
              "<mark class=\"entity\" style=\"background: #c887fb; padding: 0.45em 0.6em; margin: 0 0.25em; line-height: 1; border-radius: 0.35em;\">\n",
              "    dans\n",
              "    <span style=\"font-size: 0.8em; font-weight: bold; line-height: 1; border-radius: 0.35em; vertical-align: middle; margin-left: 0.5rem\">NORP</span>\n",
              "</mark>\n",
              " les hôpitaux français \n",
              "<mark class=\"entity\" style=\"background: #c887fb; padding: 0.45em 0.6em; margin: 0 0.25em; line-height: 1; border-radius: 0.35em;\">\n",
              "    Dans\n",
              "    <span style=\"font-size: 0.8em; font-weight: bold; line-height: 1; border-radius: 0.35em; vertical-align: middle; margin-left: 0.5rem\">NORP</span>\n",
              "</mark>\n",
              " la zone d’accueil des patients atteints du Covid-19, au service d'urgences de l’hôpital Pasteur 2 de Nice, le \n",
              "<mark class=\"entity\" style=\"background: #e4e7d2; padding: 0.45em 0.6em; margin: 0 0.25em; line-height: 1; border-radius: 0.35em;\">\n",
              "    26\n",
              "    <span style=\"font-size: 0.8em; font-weight: bold; line-height: 1; border-radius: 0.35em; vertical-align: middle; margin-left: 0.5rem\">CARDINAL</span>\n",
              "</mark>\n",
              " février 2021. LAURENT CARRÉ Après presque trois ans d’épidémie, \n",
              "<mark class=\"entity\" style=\"background: #aa9cfc; padding: 0.45em 0.6em; margin: 0 0.25em; line-height: 1; border-radius: 0.35em;\">\n",
              "    quel poids\n",
              "    <span style=\"font-size: 0.8em; font-weight: bold; line-height: 1; border-radius: 0.35em; vertical-align: middle; margin-left: 0.5rem\">PERSON</span>\n",
              "</mark>\n",
              " le Covid-19 représente-t-il pour l’hôpital ? Alors que les virus respiratoires \n",
              "<mark class=\"entity\" style=\"background: #aa9cfc; padding: 0.45em 0.6em; margin: 0 0.25em; line-height: 1; border-radius: 0.35em;\">\n",
              "    de la saison\n",
              "    <span style=\"font-size: 0.8em; font-weight: bold; line-height: 1; border-radius: 0.35em; vertical-align: middle; margin-left: 0.5rem\">PERSON</span>\n",
              "</mark>\n",
              " hivernale mettent les établissements sous tension, le \n",
              "<mark class=\"entity\" style=\"background: #aa9cfc; padding: 0.45em 0.6em; margin: 0 0.25em; line-height: 1; border-radius: 0.35em;\">\n",
              "    Covid\n",
              "    <span style=\"font-size: 0.8em; font-weight: bold; line-height: 1; border-radius: 0.35em; vertical-align: middle; margin-left: 0.5rem\">PERSON</span>\n",
              "</mark>\n",
              " complique encore la difficile comptabilité des lits hospitaliers, s’ajoutant aux épidémies de grippe et de bronchiolite qui submergent les services. Pour autant, une forme de normalisation de la maladie s’observe depuis plusieurs mois déjà. Les « unités \n",
              "<mark class=\"entity\" style=\"background: #aa9cfc; padding: 0.45em 0.6em; margin: 0 0.25em; line-height: 1; border-radius: 0.35em;\">\n",
              "    Covid\n",
              "    <span style=\"font-size: 0.8em; font-weight: bold; line-height: 1; border-radius: 0.35em; vertical-align: middle; margin-left: 0.5rem\">PERSON</span>\n",
              "</mark>\n",
              " » regroupant les patients touchés par le virus, isolés \n",
              "<mark class=\"entity\" style=\"background: #7aecec; padding: 0.45em 0.6em; margin: 0 0.25em; line-height: 1; border-radius: 0.35em;\">\n",
              "    du reste de l’hôpital\n",
              "    <span style=\"font-size: 0.8em; font-weight: bold; line-height: 1; border-radius: 0.35em; vertical-align: middle; margin-left: 0.5rem\">ORG</span>\n",
              "</mark>\n",
              ", semblent \n",
              "<mark class=\"entity\" style=\"background: #7aecec; padding: 0.45em 0.6em; margin: 0 0.25em; line-height: 1; border-radius: 0.35em;\">\n",
              "    un\n",
              "    <span style=\"font-size: 0.8em; font-weight: bold; line-height: 1; border-radius: 0.35em; vertical-align: middle; margin-left: 0.5rem\">ORG</span>\n",
              "</mark>\n",
              " lointain souvenir \n",
              "<mark class=\"entity\" style=\"background: #7aecec; padding: 0.45em 0.6em; margin: 0 0.25em; line-height: 1; border-radius: 0.35em;\">\n",
              "    dans de nombreux établissements\n",
              "    <span style=\"font-size: 0.8em; font-weight: bold; line-height: 1; border-radius: 0.35em; vertical-align: middle; margin-left: 0.5rem\">ORG</span>\n",
              "</mark>\n",
              ". De plus en plus, le Covid-19 s’installe \n",
              "<mark class=\"entity\" style=\"background: #c887fb; padding: 0.45em 0.6em; margin: 0 0.25em; line-height: 1; border-radius: 0.35em;\">\n",
              "    dans\n",
              "    <span style=\"font-size: 0.8em; font-weight: bold; line-height: 1; border-radius: 0.35em; vertical-align: middle; margin-left: 0.5rem\">NORP</span>\n",
              "</mark>\n",
              " le quotidien des soignants.Lire aussi : Article réservé à nos abonnés Covid-19 : en \n",
              "<mark class=\"entity\" style=\"background: #feca74; padding: 0.45em 0.6em; margin: 0 0.25em; line-height: 1; border-radius: 0.35em;\">\n",
              "    France\n",
              "    <span style=\"font-size: 0.8em; font-weight: bold; line-height: 1; border-radius: 0.35em; vertical-align: middle; margin-left: 0.5rem\">GPE</span>\n",
              "</mark>\n",
              ", l’épidémie progresse moins vite On n’est plus du tout \n",
              "<mark class=\"entity\" style=\"background: #c887fb; padding: 0.45em 0.6em; margin: 0 0.25em; line-height: 1; border-radius: 0.35em;\">\n",
              "    dans\n",
              "    <span style=\"font-size: 0.8em; font-weight: bold; line-height: 1; border-radius: 0.35em; vertical-align: middle; margin-left: 0.5rem\">NORP</span>\n",
              "</mark>\n",
              " \n",
              "<mark class=\"entity\" style=\"background: #aa9cfc; padding: 0.45em 0.6em; margin: 0 0.25em; line-height: 1; border-radius: 0.35em;\">\n",
              "    la même dimension émotionnelle\n",
              "    <span style=\"font-size: 0.8em; font-weight: bold; line-height: 1; border-radius: 0.35em; vertical-align: middle; margin-left: 0.5rem\">PERSON</span>\n",
              "</mark>\n",
              " et de risque infectieux qu’en \n",
              "<mark class=\"entity\" style=\"background: #bfe1d9; padding: 0.45em 0.6em; margin: 0 0.25em; line-height: 1; border-radius: 0.35em;\">\n",
              "    2020\n",
              "    <span style=\"font-size: 0.8em; font-weight: bold; line-height: 1; border-radius: 0.35em; vertical-align: middle; margin-left: 0.5rem\">DATE</span>\n",
              "</mark>\n",
              ", souligne \n",
              "<mark class=\"entity\" style=\"background: #aa9cfc; padding: 0.45em 0.6em; margin: 0 0.25em; line-height: 1; border-radius: 0.35em;\">\n",
              "    Marc Lambert\n",
              "    <span style=\"font-size: 0.8em; font-weight: bold; line-height: 1; border-radius: 0.35em; vertical-align: middle; margin-left: 0.5rem\">PERSON</span>\n",
              "</mark>\n",
              ", \n",
              "<mark class=\"entity\" style=\"background: #7aecec; padding: 0.45em 0.6em; margin: 0 0.25em; line-height: 1; border-radius: 0.35em;\">\n",
              "    chef de service de médecine polyvalente de post-urgence au centre\n",
              "    <span style=\"font-size: 0.8em; font-weight: bold; line-height: 1; border-radius: 0.35em; vertical-align: middle; margin-left: 0.5rem\">ORG</span>\n",
              "</mark>\n",
              " hospitalier universitaire (CHU) de Lille. \n",
              "<mark class=\"entity\" style=\"background: #feca74; padding: 0.45em 0.6em; margin: 0 0.25em; line-height: 1; border-radius: 0.35em;\">\n",
              "    Notre\n",
              "    <span style=\"font-size: 0.8em; font-weight: bold; line-height: 1; border-radius: 0.35em; vertical-align: middle; margin-left: 0.5rem\">GPE</span>\n",
              "</mark>\n",
              " vie a changé ; on peut dire “merci” à la vaccination. » Pour l’ancien responsable \n",
              "<mark class=\"entity\" style=\"background: #aa9cfc; padding: 0.45em 0.6em; margin: 0 0.25em; line-height: 1; border-radius: 0.35em;\">\n",
              "    de l’unité Covid\n",
              "    <span style=\"font-size: 0.8em; font-weight: bold; line-height: 1; border-radius: 0.35em; vertical-align: middle; margin-left: 0.5rem\">PERSON</span>\n",
              "</mark>\n",
              " mise en place lors de la première vague et répartie \n",
              "<mark class=\"entity\" style=\"background: #c887fb; padding: 0.45em 0.6em; margin: 0 0.25em; line-height: 1; border-radius: 0.35em;\">\n",
              "    dans\n",
              "    <span style=\"font-size: 0.8em; font-weight: bold; line-height: 1; border-radius: 0.35em; vertical-align: middle; margin-left: 0.5rem\">NORP</span>\n",
              "</mark>\n",
              " les services depuis \n",
              "<mark class=\"entity\" style=\"background: #bfe1d9; padding: 0.45em 0.6em; margin: 0 0.25em; line-height: 1; border-radius: 0.35em;\">\n",
              "    2021\n",
              "    <span style=\"font-size: 0.8em; font-weight: bold; line-height: 1; border-radius: 0.35em; vertical-align: middle; margin-left: 0.5rem\">DATE</span>\n",
              "</mark>\n",
              " – comme \n",
              "<mark class=\"entity\" style=\"background: #c887fb; padding: 0.45em 0.6em; margin: 0 0.25em; line-height: 1; border-radius: 0.35em;\">\n",
              "    dans\n",
              "    <span style=\"font-size: 0.8em; font-weight: bold; line-height: 1; border-radius: 0.35em; vertical-align: middle; margin-left: 0.5rem\">NORP</span>\n",
              "</mark>\n",
              " beaucoup d’établissements –, « le Covid doit être intégré comme \n",
              "<mark class=\"entity\" style=\"background: #7aecec; padding: 0.45em 0.6em; margin: 0 0.25em; line-height: 1; border-radius: 0.35em;\">\n",
              "    un\n",
              "    <span style=\"font-size: 0.8em; font-weight: bold; line-height: 1; border-radius: 0.35em; vertical-align: middle; margin-left: 0.5rem\">ORG</span>\n",
              "</mark>\n",
              " élément \n",
              "<mark class=\"entity\" style=\"background: #aa9cfc; padding: 0.45em 0.6em; margin: 0 0.25em; line-height: 1; border-radius: 0.35em;\">\n",
              "    quotidien dans la prise\n",
              "    <span style=\"font-size: 0.8em; font-weight: bold; line-height: 1; border-radius: 0.35em; vertical-align: middle; margin-left: 0.5rem\">PERSON</span>\n",
              "</mark>\n",
              " en charge des patients ». « Ce n’est plus logique de traiter ces patients à part, les soignants s’adaptent et apprennent à gérer ce risque infectieux », ajoute le médecin. Un mois et demi après le \n",
              "<mark class=\"entity\" style=\"background: #7aecec; padding: 0.45em 0.6em; margin: 0 0.25em; line-height: 1; border-radius: 0.35em;\">\n",
              "    début de la\n",
              "    <span style=\"font-size: 0.8em; font-weight: bold; line-height: 1; border-radius: 0.35em; vertical-align: middle; margin-left: 0.5rem\">ORG</span>\n",
              "</mark>\n",
              " neuvième vague \n",
              "<mark class=\"entity\" style=\"background: #aa9cfc; padding: 0.45em 0.6em; margin: 0 0.25em; line-height: 1; border-radius: 0.35em;\">\n",
              "    de Covid-19\n",
              "    <span style=\"font-size: 0.8em; font-weight: bold; line-height: 1; border-radius: 0.35em; vertical-align: middle; margin-left: 0.5rem\">PERSON</span>\n",
              "</mark>\n",
              ", début novembre, le nombre de contaminations semble avoir atteint \n",
              "<mark class=\"entity\" style=\"background: #7aecec; padding: 0.45em 0.6em; margin: 0 0.25em; line-height: 1; border-radius: 0.35em;\">\n",
              "    un plateau haut\n",
              "    <span style=\"font-size: 0.8em; font-weight: bold; line-height: 1; border-radius: 0.35em; vertical-align: middle; margin-left: 0.5rem\">ORG</span>\n",
              "</mark>\n",
              ", avec \n",
              "<mark class=\"entity\" style=\"background: #e4e7d2; padding: 0.45em 0.6em; margin: 0 0.25em; line-height: 1; border-radius: 0.35em;\">\n",
              "    62 000\n",
              "    <span style=\"font-size: 0.8em; font-weight: bold; line-height: 1; border-radius: 0.35em; vertical-align: middle; margin-left: 0.5rem\">CARDINAL</span>\n",
              "</mark>\n",
              " cas recensés le \n",
              "<mark class=\"entity\" style=\"background: #e4e7d2; padding: 0.45em 0.6em; margin: 0 0.25em; line-height: 1; border-radius: 0.35em;\">\n",
              "    12\n",
              "    <span style=\"font-size: 0.8em; font-weight: bold; line-height: 1; border-radius: 0.35em; vertical-align: middle; margin-left: 0.5rem\">CARDINAL</span>\n",
              "</mark>\n",
              " décembre, ce que confirmera peut-être \n",
              "<mark class=\"entity\" style=\"background: #7aecec; padding: 0.45em 0.6em; margin: 0 0.25em; line-height: 1; border-radius: 0.35em;\">\n",
              "    un\n",
              "    <span style=\"font-size: 0.8em; font-weight: bold; line-height: 1; border-radius: 0.35em; vertical-align: middle; margin-left: 0.5rem\">ORG</span>\n",
              "</mark>\n",
              " pic \n",
              "<mark class=\"entity\" style=\"background: #c887fb; padding: 0.45em 0.6em; margin: 0 0.25em; line-height: 1; border-radius: 0.35em;\">\n",
              "    dans\n",
              "    <span style=\"font-size: 0.8em; font-weight: bold; line-height: 1; border-radius: 0.35em; vertical-align: middle; margin-left: 0.5rem\">NORP</span>\n",
              "</mark>\n",
              " les prochains jours. Le nombre d’admissions à l’hôpital continue, lui, \n",
              "<mark class=\"entity\" style=\"background: #aa9cfc; padding: 0.45em 0.6em; margin: 0 0.25em; line-height: 1; border-radius: 0.35em;\">\n",
              "    d’augmenter\n",
              "    <span style=\"font-size: 0.8em; font-weight: bold; line-height: 1; border-radius: 0.35em; vertical-align: middle; margin-left: 0.5rem\">PERSON</span>\n",
              "</mark>\n",
              ", et dépasse déjà les \n",
              "<mark class=\"entity\" style=\"background: #7aecec; padding: 0.45em 0.6em; margin: 0 0.25em; line-height: 1; border-radius: 0.35em;\">\n",
              "    niveaux de la septième vague\n",
              "    <span style=\"font-size: 0.8em; font-weight: bold; line-height: 1; border-radius: 0.35em; vertical-align: middle; margin-left: 0.5rem\">ORG</span>\n",
              "</mark>\n",
              ", en juillet, avec \n",
              "<mark class=\"entity\" style=\"background: #e4e7d2; padding: 0.45em 0.6em; margin: 0 0.25em; line-height: 1; border-radius: 0.35em;\">\n",
              "    1 500\n",
              "    <span style=\"font-size: 0.8em; font-weight: bold; line-height: 1; border-radius: 0.35em; vertical-align: middle; margin-left: 0.5rem\">CARDINAL</span>\n",
              "</mark>\n",
              " personnes hospitalisées en moyenne par jour. Des indicateurs élevés, donc, mais \n",
              "<mark class=\"entity\" style=\"background: #aa9cfc; padding: 0.45em 0.6em; margin: 0 0.25em; line-height: 1; border-radius: 0.35em;\">\n",
              "    qui n’inquiètent\n",
              "    <span style=\"font-size: 0.8em; font-weight: bold; line-height: 1; border-radius: 0.35em; vertical-align: middle; margin-left: 0.5rem\">PERSON</span>\n",
              "</mark>\n",
              " plus les soignants de la même manière.\n",
              "<mark class=\"entity\" style=\"background: #feca74; padding: 0.45em 0.6em; margin: 0 0.25em; line-height: 1; border-radius: 0.35em;\">\n",
              "    Le\n",
              "    <span style=\"font-size: 0.8em; font-weight: bold; line-height: 1; border-radius: 0.35em; vertical-align: middle; margin-left: 0.5rem\">GPE</span>\n",
              "</mark>\n",
              " profil des patients a changé</div></span>"
            ]
          },
          "metadata": {}
        }
      ]
    }
  ]
}